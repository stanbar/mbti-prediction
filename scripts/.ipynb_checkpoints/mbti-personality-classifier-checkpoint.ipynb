{
 "cells": [
  {
   "cell_type": "markdown",
   "metadata": {
    "_uuid": "8bb827f06f5cfefe8e260728821da68ba58b7e4b"
   },
   "source": [
    "1. # MBTI Personality Classifier\n",
    "\n",
    "This programme will classify people into mbti personality types based on their past 50 posts on social media using the basic naivebayesclassifier"
   ]
  },
  {
   "cell_type": "code",
   "execution_count": 2,
   "metadata": {
    "_uuid": "a7de7bb1a15a021967dce619552960dd5fec96d1",
    "execution": {
     "iopub.execute_input": "2022-07-13T15:06:41.671924Z",
     "iopub.status.busy": "2022-07-13T15:06:41.671542Z",
     "iopub.status.idle": "2022-07-13T15:06:41.676758Z",
     "shell.execute_reply": "2022-07-13T15:06:41.675979Z",
     "shell.execute_reply.started": "2022-07-13T15:06:41.671848Z"
    }
   },
   "outputs": [],
   "source": [
    "import pandas as pd\n",
    "import numpy as np\n",
    "import matplotlib.pyplot as plt\n",
    "import nltk\n",
    "import string\n",
    "from nltk.classify import NaiveBayesClassifier"
   ]
  },
  {
   "cell_type": "markdown",
   "metadata": {
    "_uuid": "0dbb5e7154ae6c0952e785327a5e6910597f1e84"
   },
   "source": [
    "### Importing the dataset "
   ]
  },
  {
   "cell_type": "code",
   "execution_count": 3,
   "metadata": {
    "_kg_hide-input": true,
    "_uuid": "9dfe2a597939ab1ae2ec490a1de13db637451134",
    "execution": {
     "iopub.execute_input": "2022-07-13T15:06:41.696160Z",
     "iopub.status.busy": "2022-07-13T15:06:41.695835Z",
     "iopub.status.idle": "2022-07-13T15:06:42.393761Z",
     "shell.execute_reply": "2022-07-13T15:06:42.392739Z",
     "shell.execute_reply.started": "2022-07-13T15:06:41.696118Z"
    }
   },
   "outputs": [
    {
     "data": {
      "text/html": [
       "<div>\n",
       "<style scoped>\n",
       "    .dataframe tbody tr th:only-of-type {\n",
       "        vertical-align: middle;\n",
       "    }\n",
       "\n",
       "    .dataframe tbody tr th {\n",
       "        vertical-align: top;\n",
       "    }\n",
       "\n",
       "    .dataframe thead th {\n",
       "        text-align: right;\n",
       "    }\n",
       "</style>\n",
       "<table border=\"1\" class=\"dataframe\">\n",
       "  <thead>\n",
       "    <tr style=\"text-align: right;\">\n",
       "      <th></th>\n",
       "      <th>type</th>\n",
       "      <th>posts</th>\n",
       "    </tr>\n",
       "  </thead>\n",
       "  <tbody>\n",
       "    <tr>\n",
       "      <th>8670</th>\n",
       "      <td>ISFP</td>\n",
       "      <td>'https://www.youtube.com/watch?v=t8edHB_h908||...</td>\n",
       "    </tr>\n",
       "    <tr>\n",
       "      <th>8671</th>\n",
       "      <td>ENFP</td>\n",
       "      <td>'So...if this thread already exists someplace ...</td>\n",
       "    </tr>\n",
       "    <tr>\n",
       "      <th>8672</th>\n",
       "      <td>INTP</td>\n",
       "      <td>'So many questions when i do these things.  I ...</td>\n",
       "    </tr>\n",
       "    <tr>\n",
       "      <th>8673</th>\n",
       "      <td>INFP</td>\n",
       "      <td>'I am very conflicted right now when it comes ...</td>\n",
       "    </tr>\n",
       "    <tr>\n",
       "      <th>8674</th>\n",
       "      <td>INFP</td>\n",
       "      <td>'It has been too long since I have been on per...</td>\n",
       "    </tr>\n",
       "  </tbody>\n",
       "</table>\n",
       "</div>"
      ],
      "text/plain": [
       "      type                                              posts\n",
       "8670  ISFP  'https://www.youtube.com/watch?v=t8edHB_h908||...\n",
       "8671  ENFP  'So...if this thread already exists someplace ...\n",
       "8672  INTP  'So many questions when i do these things.  I ...\n",
       "8673  INFP  'I am very conflicted right now when it comes ...\n",
       "8674  INFP  'It has been too long since I have been on per..."
      ]
     },
     "execution_count": 3,
     "metadata": {},
     "output_type": "execute_result"
    }
   ],
   "source": [
    "data_set = pd.read_csv(\"./input/mbti_1.csv\")\n",
    "data_set.tail()"
   ]
  },
  {
   "cell_type": "markdown",
   "metadata": {
    "_uuid": "98e57b1de8e236358006019dba07402077f3fd01"
   },
   "source": [
    "### Checking the dataset for missing values"
   ]
  },
  {
   "cell_type": "code",
   "execution_count": 4,
   "metadata": {
    "_uuid": "184c5514a2e0fc586e53165489de53e3e90fece4",
    "execution": {
     "iopub.execute_input": "2022-07-13T15:06:42.396173Z",
     "iopub.status.busy": "2022-07-13T15:06:42.395870Z",
     "iopub.status.idle": "2022-07-13T15:06:42.405337Z",
     "shell.execute_reply": "2022-07-13T15:06:42.404541Z",
     "shell.execute_reply.started": "2022-07-13T15:06:42.396120Z"
    }
   },
   "outputs": [
    {
     "data": {
      "text/plain": [
       "type     False\n",
       "posts    False\n",
       "dtype: bool"
      ]
     },
     "execution_count": 4,
     "metadata": {},
     "output_type": "execute_result"
    }
   ],
   "source": [
    "data_set.isnull().any()"
   ]
  },
  {
   "cell_type": "markdown",
   "metadata": {
    "_uuid": "30a4b1e733e3065150b30f3d4278f54c7995bd85"
   },
   "source": [
    "## Exploring the dataset"
   ]
  },
  {
   "cell_type": "markdown",
   "metadata": {
    "_uuid": "b50a97e6ff2b572c9ae044bc13b4611479d00756"
   },
   "source": [
    "The size of the dataset"
   ]
  },
  {
   "cell_type": "code",
   "execution_count": 5,
   "metadata": {
    "_uuid": "97f0e8c89d2c1e2fdfc960b23b659600cf83aa66",
    "execution": {
     "iopub.execute_input": "2022-07-13T15:06:42.408166Z",
     "iopub.status.busy": "2022-07-13T15:06:42.407859Z",
     "iopub.status.idle": "2022-07-13T15:06:42.416707Z",
     "shell.execute_reply": "2022-07-13T15:06:42.415985Z",
     "shell.execute_reply.started": "2022-07-13T15:06:42.408112Z"
    }
   },
   "outputs": [
    {
     "data": {
      "text/plain": [
       "(8675, 2)"
      ]
     },
     "execution_count": 5,
     "metadata": {},
     "output_type": "execute_result"
    }
   ],
   "source": [
    "data_set.shape"
   ]
  },
  {
   "cell_type": "markdown",
   "metadata": {
    "_uuid": "b382a2579939671ba8c3c093eec4025622ef5077"
   },
   "source": [
    "Explroing the posts in posts field"
   ]
  },
  {
   "cell_type": "code",
   "execution_count": 6,
   "metadata": {
    "_uuid": "3472b5b9eedb53ea9cfbeec1aeffed97840af476",
    "execution": {
     "iopub.execute_input": "2022-07-13T15:06:42.418950Z",
     "iopub.status.busy": "2022-07-13T15:06:42.418628Z",
     "iopub.status.idle": "2022-07-13T15:06:42.430935Z",
     "shell.execute_reply": "2022-07-13T15:06:42.429883Z",
     "shell.execute_reply.started": "2022-07-13T15:06:42.418847Z"
    },
    "scrolled": true
   },
   "outputs": [
    {
     "data": {
      "text/plain": [
       "[\"'http://www.youtube.com/watch?v=qsXHcwe3krw\",\n",
       " 'http://41.media.tumblr.com/tumblr_lfouy03PMA1qa1rooo1_500.jpg',\n",
       " 'enfp and intj moments  https://www.youtube.com/watch?v=iz7lE1g4XM4  sportscenter not top ten plays  https://www.youtube.com/watch?v=uCdfze1etec  pranks',\n",
       " 'What has been the most life-changing experience in your life?',\n",
       " 'http://www.youtube.com/watch?v=vXZeYwwRDw8   http://www.youtube.com/watch?v=u8ejam5DP3E  On repeat for most of today.',\n",
       " 'May the PerC Experience immerse you.',\n",
       " 'The last thing my INFJ friend posted on his facebook before committing suicide the next day. Rest in peace~   http://vimeo.com/22842206',\n",
       " \"Hello ENFJ7. Sorry to hear of your distress. It's only natural for a relationship to not be perfection all the time in every moment of existence. Try to figure the hard times as times of growth, as...\",\n",
       " '84389  84390  http://wallpaperpassion.com/upload/23700/friendship-boy-and-girl-wallpaper.jpg  http://assets.dornob.com/wp-content/uploads/2010/04/round-home-design.jpg ...',\n",
       " 'Welcome and stuff.',\n",
       " 'http://playeressence.com/wp-content/uploads/2013/08/RED-red-the-pokemon-master-32560474-450-338.jpg  Game. Set. Match.',\n",
       " \"Prozac, wellbrutin, at least thirty minutes of moving your legs (and I don't mean moving them while sitting in your same desk chair), weed in moderation (maybe try edibles as a healthier alternative...\",\n",
       " \"Basically come up with three items you've determined that each type (or whichever types you want to do) would more than likely use, given each types' cognitive functions and whatnot, when left by...\",\n",
       " 'All things in moderation.  Sims is indeed a video game, and a good one at that. Note: a good one at that is somewhat subjective in that I am not completely promoting the death of any given Sim...',\n",
       " 'Dear ENFP:  What were your favorite video games growing up and what are your now, current favorite video games? :cool:',\n",
       " 'https://www.youtube.com/watch?v=QyPqT8umzmY',\n",
       " 'It appears to be too late. :sad:',\n",
       " \"There's someone out there for everyone.\",\n",
       " 'Wait... I thought confidence was a good thing.',\n",
       " \"I just cherish the time of solitude b/c i revel within my inner world more whereas most other time i'd be workin... just enjoy the me time while you can. Don't worry, people will always be around to...\",\n",
       " \"Yo entp ladies... if you're into a complimentary personality,well, hey.\",\n",
       " '... when your main social outlet is xbox live conversations and even then you verbally fatigue quickly.',\n",
       " 'http://www.youtube.com/watch?v=gDhy7rdfm14  I really dig the part from 1:46 to 2:50',\n",
       " 'http://www.youtube.com/watch?v=msqXffgh7b8',\n",
       " 'Banned because this thread requires it of me.',\n",
       " 'Get high in backyard, roast and eat marshmellows in backyard while conversing over something intellectual, followed by massages and kisses.',\n",
       " 'http://www.youtube.com/watch?v=Mw7eoU3BMbE',\n",
       " 'http://www.youtube.com/watch?v=4V2uYORhQOk',\n",
       " 'http://www.youtube.com/watch?v=SlVmgFQQ0TI',\n",
       " \"Banned for too many b's in that sentence. How could you! Think of the B!\",\n",
       " 'Banned for watching movies in the corner with the dunces.',\n",
       " 'Banned because Health class clearly taught you nothing about peer pressure.',\n",
       " 'Banned for a whole host of reasons!',\n",
       " 'http://www.youtube.com/watch?v=IRcrv41hgz4',\n",
       " \"1) Two baby deer on left and right munching on a beetle in the middle.  2) Using their own blood, two cavemen diary today's latest happenings on their designated cave diary wall.  3) I see it as...\",\n",
       " 'a pokemon world  an infj society  everyone becomes an optimist',\n",
       " '49142',\n",
       " 'http://www.youtube.com/watch?v=ZRCEq_JFeFM',\n",
       " 'http://discovermagazine.com/2012/jul-aug/20-things-you-didnt-know-about-deserts/desert.jpg',\n",
       " 'http://oyster.ignimgs.com/mediawiki/apis.ign.com/pokemon-silver-version/d/dd/Ditto.gif',\n",
       " 'http://www.serebii.net/potw-dp/Scizor.jpg',\n",
       " \"Not all artists are artists because they draw. It's the idea that counts in forming something of your own... like a signature.\",\n",
       " \"Welcome to the robot ranks, person who downed my self-esteem cuz I'm not an avid signature artist like herself. :proud:\",\n",
       " 'Banned for taking all the room under my bed. Ya gotta learn to share with the roaches.',\n",
       " 'http://www.youtube.com/watch?v=w8IgImn57aQ',\n",
       " 'Banned for being too much of a thundering, grumbling kind of storm... yep.',\n",
       " \"Ahh... old high school music I haven't heard in ages.   http://www.youtube.com/watch?v=dcCRUPCdB1w\",\n",
       " \"I failed a public speaking class a few years ago and I've sort of learned what I could do better were I to be in that position again. A big part of my failure was just overloading myself with too...\",\n",
       " \"I like this person's mentality. He's a confirmed INTJ by the way. http://www.youtube.com/watch?v=hGKLI-GEc6M\",\n",
       " \"Move to the Denver area and start a new life for myself.'\"]"
      ]
     },
     "execution_count": 6,
     "metadata": {},
     "output_type": "execute_result"
    }
   ],
   "source": [
    "data_set.iloc[0,1].split('|||')"
   ]
  },
  {
   "cell_type": "markdown",
   "metadata": {
    "_uuid": "0b86097a7c4ba22dad0b1ebda788488cd3ace0c5"
   },
   "source": [
    "Finding the number of posts"
   ]
  },
  {
   "cell_type": "code",
   "execution_count": 7,
   "metadata": {
    "_uuid": "732043d533235d8e6ab217f9e0ecd0b3099b2287",
    "execution": {
     "iopub.execute_input": "2022-07-13T15:06:42.432344Z",
     "iopub.status.busy": "2022-07-13T15:06:42.432050Z",
     "iopub.status.idle": "2022-07-13T15:06:42.440845Z",
     "shell.execute_reply": "2022-07-13T15:06:42.440108Z",
     "shell.execute_reply.started": "2022-07-13T15:06:42.432280Z"
    }
   },
   "outputs": [
    {
     "data": {
      "text/plain": [
       "50"
      ]
     },
     "execution_count": 7,
     "metadata": {},
     "output_type": "execute_result"
    }
   ],
   "source": [
    "len(data_set.iloc[1,1].split('|||'))"
   ]
  },
  {
   "cell_type": "markdown",
   "metadata": {
    "_uuid": "1d8d191335a7914d097b389c2db604b74e36b328"
   },
   "source": [
    "Finding the unique vales from type of personality column"
   ]
  },
  {
   "cell_type": "code",
   "execution_count": 8,
   "metadata": {
    "_uuid": "ac77990f8eb625fa66d16fd94e923425c51413aa",
    "execution": {
     "iopub.execute_input": "2022-07-13T15:06:42.442072Z",
     "iopub.status.busy": "2022-07-13T15:06:42.441789Z",
     "iopub.status.idle": "2022-07-13T15:06:42.457198Z",
     "shell.execute_reply": "2022-07-13T15:06:42.456471Z",
     "shell.execute_reply.started": "2022-07-13T15:06:42.442018Z"
    }
   },
   "outputs": [
    {
     "data": {
      "text/plain": [
       "array(['ENFJ', 'ENFP', 'ENTJ', 'ENTP', 'ESFJ', 'ESFP', 'ESTJ', 'ESTP',\n",
       "       'INFJ', 'INFP', 'INTJ', 'INTP', 'ISFJ', 'ISFP', 'ISTJ', 'ISTP'],\n",
       "      dtype=object)"
      ]
     },
     "execution_count": 8,
     "metadata": {},
     "output_type": "execute_result"
    }
   ],
   "source": [
    "types = np.unique(np.array(data_set['type']))\n",
    "types"
   ]
  },
  {
   "cell_type": "markdown",
   "metadata": {
    "_uuid": "d5abe363d01a26e22772a87683f58b7294bb48e0"
   },
   "source": [
    "The total number of posts for each type"
   ]
  },
  {
   "cell_type": "code",
   "execution_count": 9,
   "metadata": {
    "_uuid": "2dd18c970f03d46c1975404a6ae8c5138b129323",
    "execution": {
     "iopub.execute_input": "2022-07-13T15:06:42.458384Z",
     "iopub.status.busy": "2022-07-13T15:06:42.458055Z",
     "iopub.status.idle": "2022-07-13T15:06:42.480587Z",
     "shell.execute_reply": "2022-07-13T15:06:42.479854Z",
     "shell.execute_reply.started": "2022-07-13T15:06:42.458348Z"
    },
    "scrolled": true
   },
   "outputs": [
    {
     "data": {
      "text/html": [
       "<div>\n",
       "<style scoped>\n",
       "    .dataframe tbody tr th:only-of-type {\n",
       "        vertical-align: middle;\n",
       "    }\n",
       "\n",
       "    .dataframe tbody tr th {\n",
       "        vertical-align: top;\n",
       "    }\n",
       "\n",
       "    .dataframe thead th {\n",
       "        text-align: right;\n",
       "    }\n",
       "</style>\n",
       "<table border=\"1\" class=\"dataframe\">\n",
       "  <thead>\n",
       "    <tr style=\"text-align: right;\">\n",
       "      <th></th>\n",
       "      <th>posts</th>\n",
       "    </tr>\n",
       "    <tr>\n",
       "      <th>type</th>\n",
       "      <th></th>\n",
       "    </tr>\n",
       "  </thead>\n",
       "  <tbody>\n",
       "    <tr>\n",
       "      <th>ENFJ</th>\n",
       "      <td>9500</td>\n",
       "    </tr>\n",
       "    <tr>\n",
       "      <th>ENFP</th>\n",
       "      <td>33750</td>\n",
       "    </tr>\n",
       "    <tr>\n",
       "      <th>ENTJ</th>\n",
       "      <td>11550</td>\n",
       "    </tr>\n",
       "    <tr>\n",
       "      <th>ENTP</th>\n",
       "      <td>34250</td>\n",
       "    </tr>\n",
       "    <tr>\n",
       "      <th>ESFJ</th>\n",
       "      <td>2100</td>\n",
       "    </tr>\n",
       "    <tr>\n",
       "      <th>ESFP</th>\n",
       "      <td>2400</td>\n",
       "    </tr>\n",
       "    <tr>\n",
       "      <th>ESTJ</th>\n",
       "      <td>1950</td>\n",
       "    </tr>\n",
       "    <tr>\n",
       "      <th>ESTP</th>\n",
       "      <td>4450</td>\n",
       "    </tr>\n",
       "    <tr>\n",
       "      <th>INFJ</th>\n",
       "      <td>73500</td>\n",
       "    </tr>\n",
       "    <tr>\n",
       "      <th>INFP</th>\n",
       "      <td>91600</td>\n",
       "    </tr>\n",
       "    <tr>\n",
       "      <th>INTJ</th>\n",
       "      <td>54550</td>\n",
       "    </tr>\n",
       "    <tr>\n",
       "      <th>INTP</th>\n",
       "      <td>65200</td>\n",
       "    </tr>\n",
       "    <tr>\n",
       "      <th>ISFJ</th>\n",
       "      <td>8300</td>\n",
       "    </tr>\n",
       "    <tr>\n",
       "      <th>ISFP</th>\n",
       "      <td>13550</td>\n",
       "    </tr>\n",
       "    <tr>\n",
       "      <th>ISTJ</th>\n",
       "      <td>10250</td>\n",
       "    </tr>\n",
       "    <tr>\n",
       "      <th>ISTP</th>\n",
       "      <td>16850</td>\n",
       "    </tr>\n",
       "  </tbody>\n",
       "</table>\n",
       "</div>"
      ],
      "text/plain": [
       "      posts\n",
       "type       \n",
       "ENFJ   9500\n",
       "ENFP  33750\n",
       "ENTJ  11550\n",
       "ENTP  34250\n",
       "ESFJ   2100\n",
       "ESFP   2400\n",
       "ESTJ   1950\n",
       "ESTP   4450\n",
       "INFJ  73500\n",
       "INFP  91600\n",
       "INTJ  54550\n",
       "INTP  65200\n",
       "ISFJ   8300\n",
       "ISFP  13550\n",
       "ISTJ  10250\n",
       "ISTP  16850"
      ]
     },
     "execution_count": 9,
     "metadata": {},
     "output_type": "execute_result"
    }
   ],
   "source": [
    "total = data_set.groupby(['type']).count()*50\n",
    "total"
   ]
  },
  {
   "cell_type": "markdown",
   "metadata": {
    "_uuid": "2f743361a01e838dfe1d5cd4965f495c2ff2e683"
   },
   "source": [
    "Graphing it for better visualization"
   ]
  },
  {
   "cell_type": "code",
   "execution_count": 10,
   "metadata": {
    "_uuid": "b12b91bc628b74dfe872f7ba667e0b6e2a03db95",
    "execution": {
     "iopub.execute_input": "2022-07-13T15:06:42.482544Z",
     "iopub.status.busy": "2022-07-13T15:06:42.481971Z",
     "iopub.status.idle": "2022-07-13T15:06:42.922566Z",
     "shell.execute_reply": "2022-07-13T15:06:42.921608Z",
     "shell.execute_reply.started": "2022-07-13T15:06:42.482501Z"
    }
   },
   "outputs": [
    {
     "data": {
      "text/plain": [
       "Text(0.5, 1.0, 'Total posts for each personality type')"
      ]
     },
     "execution_count": 10,
     "metadata": {},
     "output_type": "execute_result"
    },
    {
     "data": {
      "image/png": "[encoded data removed]",
      "text/plain": [
       "<Figure size 864x432 with 1 Axes>"
      ]
     },
     "metadata": {
      "needs_background": "light"
     },
     "output_type": "display_data"
    }
   ],
   "source": [
    "plt.figure(figsize = (12,6))\n",
    "\n",
    "plt.bar(np.array(total.index), height = total['posts'],)\n",
    "plt.xlabel('Personality types', size = 14)\n",
    "plt.ylabel('Number of posts available', size = 14)\n",
    "plt.title('Total posts for each personality type')"
   ]
  },
  {
   "cell_type": "markdown",
   "metadata": {
    "_uuid": "ed579baba39191f90621eb7e8ca7f055833482d8"
   },
   "source": [
    "## Organising the data to create a bag words model"
   ]
  },
  {
   "cell_type": "markdown",
   "metadata": {
    "_uuid": "0532bbb0af6f4e09c3495150bdd7240b5fa3d1ae"
   },
   "source": [
    "Segrating all the posts by their personality types and ***creating a new dataframe to store all this in***"
   ]
  },
  {
   "cell_type": "code",
   "execution_count": 11,
   "metadata": {
    "_uuid": "9b3be2945617b413417302b2c8f42e670051ec37",
    "execution": {
     "iopub.execute_input": "2022-07-13T15:06:42.924086Z",
     "iopub.status.busy": "2022-07-13T15:06:42.923642Z",
     "iopub.status.idle": "2022-07-13T15:06:43.137065Z",
     "shell.execute_reply": "2022-07-13T15:06:43.136328Z",
     "shell.execute_reply.started": "2022-07-13T15:06:42.923872Z"
    }
   },
   "outputs": [],
   "source": [
    "all_posts= pd.DataFrame()\n",
    "for j in types:\n",
    "    temp1 = data_set[data_set['type']==j]['posts']\n",
    "    temp2 = []\n",
    "    for i in temp1:\n",
    "        temp2+=i.split('|||')\n",
    "    temp3 = pd.Series(temp2)\n",
    "    all_posts[j] = temp3"
   ]
  },
  {
   "cell_type": "code",
   "execution_count": 12,
   "metadata": {
    "_uuid": "fdedc8d8b0d3c491780ed7ba7f3e5805a2704e51",
    "execution": {
     "iopub.execute_input": "2022-07-13T15:06:43.138298Z",
     "iopub.status.busy": "2022-07-13T15:06:43.137894Z",
     "iopub.status.idle": "2022-07-13T15:06:43.176252Z",
     "shell.execute_reply": "2022-07-13T15:06:43.175185Z",
     "shell.execute_reply.started": "2022-07-13T15:06:43.138258Z"
    },
    "scrolled": true
   },
   "outputs": [
    {
     "data": {
      "text/html": [
       "<div>\n",
       "<style scoped>\n",
       "    .dataframe tbody tr th:only-of-type {\n",
       "        vertical-align: middle;\n",
       "    }\n",
       "\n",
       "    .dataframe tbody tr th {\n",
       "        vertical-align: top;\n",
       "    }\n",
       "\n",
       "    .dataframe thead th {\n",
       "        text-align: right;\n",
       "    }\n",
       "</style>\n",
       "<table border=\"1\" class=\"dataframe\">\n",
       "  <thead>\n",
       "    <tr style=\"text-align: right;\">\n",
       "      <th></th>\n",
       "      <th>ENFJ</th>\n",
       "      <th>ENFP</th>\n",
       "      <th>ENTJ</th>\n",
       "      <th>ENTP</th>\n",
       "      <th>ESFJ</th>\n",
       "      <th>ESFP</th>\n",
       "      <th>ESTJ</th>\n",
       "      <th>ESTP</th>\n",
       "      <th>INFJ</th>\n",
       "      <th>INFP</th>\n",
       "      <th>INTJ</th>\n",
       "      <th>INTP</th>\n",
       "      <th>ISFJ</th>\n",
       "      <th>ISFP</th>\n",
       "      <th>ISTJ</th>\n",
       "      <th>ISTP</th>\n",
       "    </tr>\n",
       "  </thead>\n",
       "  <tbody>\n",
       "    <tr>\n",
       "      <th>9283</th>\n",
       "      <td>I am VERY particular. And I have not dated cer...</td>\n",
       "      <td>'Very true.  The thing is to recognize and ove...</td>\n",
       "      <td>Um, totally off ROFL. I am female, 30, no opin...</td>\n",
       "      <td>Actually I was none of these labels of alpha o...</td>\n",
       "      <td>NaN</td>\n",
       "      <td>NaN</td>\n",
       "      <td>NaN</td>\n",
       "      <td>NaN</td>\n",
       "      <td>'So, hey everyone, me again. :happy:  I want t...</td>\n",
       "      <td>Fantastic, I've avoided having to make my own ...</td>\n",
       "      <td>Arwen - Lord of the Rings  Her faithfulness, r...</td>\n",
       "      <td>i love romance. i love the idea of inside joke...</td>\n",
       "      <td>NaN</td>\n",
       "      <td>If it still serves a meaningful purpose, I don...</td>\n",
       "      <td>Everything points to ISTJ for me, but then som...</td>\n",
       "      <td>Group One I tend to be sociable, but sometimes...</td>\n",
       "    </tr>\n",
       "    <tr>\n",
       "      <th>9284</th>\n",
       "      <td>Could you not tell the guy was INTP?  Is that ...</td>\n",
       "      <td>i'm not real sure it's a great idea to date un...</td>\n",
       "      <td>Hahah that's hilarious</td>\n",
       "      <td>Double post, dammit. &gt;_&lt;</td>\n",
       "      <td>NaN</td>\n",
       "      <td>NaN</td>\n",
       "      <td>NaN</td>\n",
       "      <td>NaN</td>\n",
       "      <td>Put these all together, and you have a fair id...</td>\n",
       "      <td>I suppose in some respect, I used to be that w...</td>\n",
       "      <td>I'm taking this path myself right now, and I'm...</td>\n",
       "      <td>so not fair for those of us who are insecure a...</td>\n",
       "      <td>NaN</td>\n",
       "      <td>LOL I'm glad I could remind you of that. But y...</td>\n",
       "      <td>I think ESFJ is possible</td>\n",
       "      <td>https://www.youtube.com/watch?v=22wU-UITRIA</td>\n",
       "    </tr>\n",
       "    <tr>\n",
       "      <th>9285</th>\n",
       "      <td>I cannot speak for all ENFJ's, but I am hard-w...</td>\n",
       "      <td>Watch some comedies, kids are joyful and make ...</td>\n",
       "      <td>https://www.onlineassessmenttool.com/instinctu...</td>\n",
       "      <td>Radicalism 83 Socialism 100 Tenderness 71.875 ...</td>\n",
       "      <td>NaN</td>\n",
       "      <td>NaN</td>\n",
       "      <td>NaN</td>\n",
       "      <td>NaN</td>\n",
       "      <td>I need to let go of my tendency to take too la...</td>\n",
       "      <td>I only know one in real life, but personally, ...</td>\n",
       "      <td>If only! My life would be so much more ruthles...</td>\n",
       "      <td>i hadn't heard of this, but i feel it's true i...</td>\n",
       "      <td>NaN</td>\n",
       "      <td>LOL. Thanks for making my day...INTPs are so f...</td>\n",
       "      <td>I disagree that Brandon is an INTJ. He cares a...</td>\n",
       "      <td>I'm trying to think... my first two detentions...</td>\n",
       "    </tr>\n",
       "    <tr>\n",
       "      <th>9286</th>\n",
       "      <td>Of course you do not see the point of the vide...</td>\n",
       "      <td>Meditation is great! Read up on TFT and EFT ta...</td>\n",
       "      <td>ENTJ - idunno...</td>\n",
       "      <td>Quoted for astonishing truth.  One thing thoug...</td>\n",
       "      <td>NaN</td>\n",
       "      <td>NaN</td>\n",
       "      <td>NaN</td>\n",
       "      <td>NaN</td>\n",
       "      <td>Hello, and welcome to the forum!!! :D There's ...</td>\n",
       "      <td>Am I evil? is a question I've asked myself tim...</td>\n",
       "      <td>I don't know, maybe because I'm a Jungian mutt...</td>\n",
       "      <td>that's funny to me because i saved my chat log...</td>\n",
       "      <td>NaN</td>\n",
       "      <td>That's fair I guess, but you're still trying t...</td>\n",
       "      <td>I thought so, but I don't think she rambles as...</td>\n",
       "      <td>I think you can.  You should never let your pe...</td>\n",
       "    </tr>\n",
       "    <tr>\n",
       "      <th>9287</th>\n",
       "      <td>The types fit because the way they use their c...</td>\n",
       "      <td>2 Physical Touch   7 Quality Time   7 Words of...</td>\n",
       "      <td>I miscarried recently and was quite distraught...</td>\n",
       "      <td>Sure. I was taken aback by what I saw (and pre...</td>\n",
       "      <td>NaN</td>\n",
       "      <td>NaN</td>\n",
       "      <td>NaN</td>\n",
       "      <td>NaN</td>\n",
       "      <td>Oh that's just cruel. :D I'm going to go and G...</td>\n",
       "      <td>I've yet to meet an ENFJ in real life but you ...</td>\n",
       "      <td>I do not watch TV, period. I haven't since 200...</td>\n",
       "      <td>wow. i just fell in love with myself  lol</td>\n",
       "      <td>NaN</td>\n",
       "      <td>A lot of your responses seemed to indicate a p...</td>\n",
       "      <td>Cmart animalfromthesea you are both probably r...</td>\n",
       "      <td>I think it's just a part of human nature to ca...</td>\n",
       "    </tr>\n",
       "  </tbody>\n",
       "</table>\n",
       "</div>"
      ],
      "text/plain": [
       "                                                   ENFJ  \\\n",
       "9283  I am VERY particular. And I have not dated cer...   \n",
       "9284  Could you not tell the guy was INTP?  Is that ...   \n",
       "9285  I cannot speak for all ENFJ's, but I am hard-w...   \n",
       "9286  Of course you do not see the point of the vide...   \n",
       "9287  The types fit because the way they use their c...   \n",
       "\n",
       "                                                   ENFP  \\\n",
       "9283  'Very true.  The thing is to recognize and ove...   \n",
       "9284  i'm not real sure it's a great idea to date un...   \n",
       "9285  Watch some comedies, kids are joyful and make ...   \n",
       "9286  Meditation is great! Read up on TFT and EFT ta...   \n",
       "9287  2 Physical Touch   7 Quality Time   7 Words of...   \n",
       "\n",
       "                                                   ENTJ  \\\n",
       "9283  Um, totally off ROFL. I am female, 30, no opin...   \n",
       "9284                             Hahah that's hilarious   \n",
       "9285  https://www.onlineassessmenttool.com/instinctu...   \n",
       "9286                                   ENTJ - idunno...   \n",
       "9287  I miscarried recently and was quite distraught...   \n",
       "\n",
       "                                                   ENTP ESFJ ESFP ESTJ ESTP  \\\n",
       "9283  Actually I was none of these labels of alpha o...  NaN  NaN  NaN  NaN   \n",
       "9284                           Double post, dammit. >_<  NaN  NaN  NaN  NaN   \n",
       "9285  Radicalism 83 Socialism 100 Tenderness 71.875 ...  NaN  NaN  NaN  NaN   \n",
       "9286  Quoted for astonishing truth.  One thing thoug...  NaN  NaN  NaN  NaN   \n",
       "9287  Sure. I was taken aback by what I saw (and pre...  NaN  NaN  NaN  NaN   \n",
       "\n",
       "                                                   INFJ  \\\n",
       "9283  'So, hey everyone, me again. :happy:  I want t...   \n",
       "9284  Put these all together, and you have a fair id...   \n",
       "9285  I need to let go of my tendency to take too la...   \n",
       "9286  Hello, and welcome to the forum!!! :D There's ...   \n",
       "9287  Oh that's just cruel. :D I'm going to go and G...   \n",
       "\n",
       "                                                   INFP  \\\n",
       "9283  Fantastic, I've avoided having to make my own ...   \n",
       "9284  I suppose in some respect, I used to be that w...   \n",
       "9285  I only know one in real life, but personally, ...   \n",
       "9286  Am I evil? is a question I've asked myself tim...   \n",
       "9287  I've yet to meet an ENFJ in real life but you ...   \n",
       "\n",
       "                                                   INTJ  \\\n",
       "9283  Arwen - Lord of the Rings  Her faithfulness, r...   \n",
       "9284  I'm taking this path myself right now, and I'm...   \n",
       "9285  If only! My life would be so much more ruthles...   \n",
       "9286  I don't know, maybe because I'm a Jungian mutt...   \n",
       "9287  I do not watch TV, period. I haven't since 200...   \n",
       "\n",
       "                                                   INTP ISFJ  \\\n",
       "9283  i love romance. i love the idea of inside joke...  NaN   \n",
       "9284  so not fair for those of us who are insecure a...  NaN   \n",
       "9285  i hadn't heard of this, but i feel it's true i...  NaN   \n",
       "9286  that's funny to me because i saved my chat log...  NaN   \n",
       "9287          wow. i just fell in love with myself  lol  NaN   \n",
       "\n",
       "                                                   ISFP  \\\n",
       "9283  If it still serves a meaningful purpose, I don...   \n",
       "9284  LOL I'm glad I could remind you of that. But y...   \n",
       "9285  LOL. Thanks for making my day...INTPs are so f...   \n",
       "9286  That's fair I guess, but you're still trying t...   \n",
       "9287  A lot of your responses seemed to indicate a p...   \n",
       "\n",
       "                                                   ISTJ  \\\n",
       "9283  Everything points to ISTJ for me, but then som...   \n",
       "9284                           I think ESFJ is possible   \n",
       "9285  I disagree that Brandon is an INTJ. He cares a...   \n",
       "9286  I thought so, but I don't think she rambles as...   \n",
       "9287  Cmart animalfromthesea you are both probably r...   \n",
       "\n",
       "                                                   ISTP  \n",
       "9283  Group One I tend to be sociable, but sometimes...  \n",
       "9284        https://www.youtube.com/watch?v=22wU-UITRIA  \n",
       "9285  I'm trying to think... my first two detentions...  \n",
       "9286  I think you can.  You should never let your pe...  \n",
       "9287  I think it's just a part of human nature to ca...  "
      ]
     },
     "execution_count": 12,
     "metadata": {},
     "output_type": "execute_result"
    }
   ],
   "source": [
    "all_posts.tail()"
   ]
  },
  {
   "cell_type": "markdown",
   "metadata": {
    "_uuid": "d12174fcd162a6450e4ac2e303682e319aa005c6"
   },
   "source": [
    "### Creating a function to tokenize the words"
   ]
  },
  {
   "cell_type": "code",
   "execution_count": 13,
   "metadata": {
    "_uuid": "d1cf27e7c60cab187f862398d9d03331a9c001c7",
    "execution": {
     "iopub.execute_input": "2022-07-13T15:06:43.182013Z",
     "iopub.status.busy": "2022-07-13T15:06:43.181594Z",
     "iopub.status.idle": "2022-07-13T15:06:43.189746Z",
     "shell.execute_reply": "2022-07-13T15:06:43.188421Z",
     "shell.execute_reply.started": "2022-07-13T15:06:43.181930Z"
    }
   },
   "outputs": [],
   "source": [
    "useless_words = nltk.corpus.stopwords.words(\"english\") + list(string.punctuation)\n",
    "def build_bag_of_words_features_filtered(words):\n",
    "    words = nltk.word_tokenize(words)\n",
    "    return {\n",
    "        word:1 for word in words \\\n",
    "        if not word in useless_words}"
   ]
  },
  {
   "cell_type": "markdown",
   "metadata": {
    "_uuid": "a6dfed355ceae2d2a91077b7c223f870be51c90f"
   },
   "source": [
    "A random check of the function"
   ]
  },
  {
   "cell_type": "code",
   "execution_count": 21,
   "metadata": {
    "_uuid": "63bd0cb8a9bd83ed83c31e29247873a5f64e8fd7",
    "execution": {
     "iopub.execute_input": "2022-07-13T15:06:43.194605Z",
     "iopub.status.busy": "2022-07-13T15:06:43.194147Z",
     "iopub.status.idle": "2022-07-13T15:06:43.204221Z",
     "shell.execute_reply": "2022-07-13T15:06:43.203268Z",
     "shell.execute_reply.started": "2022-07-13T15:06:43.194538Z"
    },
    "scrolled": true
   },
   "outputs": [
    {
     "data": {
      "text/plain": [
       "{'Dear': 1,\n",
       " 'ENTJ': 1,\n",
       " 'sub': 1,\n",
       " 'Long': 1,\n",
       " 'time': 1,\n",
       " 'see': 1,\n",
       " 'Sincerely': 1,\n",
       " 'Alpha': 1}"
      ]
     },
     "execution_count": 21,
     "metadata": {},
     "output_type": "execute_result"
    }
   ],
   "source": [
    "build_bag_of_words_features_filtered(all_posts['INTJ'].iloc[1])"
   ]
  },
  {
   "cell_type": "markdown",
   "metadata": {},
   "source": [
    "## Creating an array of features"
   ]
  },
  {
   "cell_type": "markdown",
   "metadata": {},
   "source": [
    "Because each number of personality types have different number of posts they must be splitted accordingle. Taking 80% for training and 20% for testing"
   ]
  },
  {
   "cell_type": "code",
   "execution_count": 24,
   "metadata": {},
   "outputs": [],
   "source": [
    "split=[]\n",
    "for i in range(16):\n",
    "    split += [len(features[i]) * 0.8]\n",
    "split = np.array(split,dtype = int)"
   ]
  },
  {
   "cell_type": "markdown",
   "metadata": {
    "_uuid": "08d890ede1621d48072217d1b15b2cde55a5b4a0"
   },
   "source": [
    "## Creating a classifyer for Introversion (I) and Extroversion (E)\n",
    "\n",
    "**Note:** The details for the steps over here are same as the ones while creating the model above, hence I will only explain the changes"
   ]
  },
  {
   "cell_type": "code",
   "execution_count": 26,
   "metadata": {
    "_uuid": "758c5ea838ea17737bee0aac2702fad80c222795",
    "execution": {
     "iopub.execute_input": "2022-07-13T15:06:43.206025Z",
     "iopub.status.busy": "2022-07-13T15:06:43.205397Z",
     "iopub.status.idle": "2022-07-13T15:07:32.316368Z",
     "shell.execute_reply": "2022-07-13T15:07:32.315283Z",
     "shell.execute_reply.started": "2022-07-13T15:06:43.205961Z"
    }
   },
   "outputs": [],
   "source": [
    "# Features for the bag of words model\n",
    "features=[]\n",
    "for j in types:\n",
    "    temp1 = all_posts[j]\n",
    "    temp1 = temp1.dropna() #not all the personality types have same number of files\n",
    "    if('I' in j):\n",
    "        features += [[(build_bag_of_words_features_filtered(i), 'introvert') \\\n",
    "        for i in temp1]]\n",
    "    if('E' in j):\n",
    "        features += [[(build_bag_of_words_features_filtered(i), 'extrovert') \\\n",
    "        for i in temp1]]"
   ]
  },
  {
   "cell_type": "markdown",
   "metadata": {
    "_uuid": "4d5ead1eb0646a9e3b67fec85a67258700db1683"
   },
   "source": [
    "Data for training"
   ]
  },
  {
   "cell_type": "code",
   "execution_count": 27,
   "metadata": {
    "_uuid": "dc661a28b0941ae1604b3a4243ccae040a657bc7",
    "execution": {
     "iopub.execute_input": "2022-07-13T15:07:32.317694Z",
     "iopub.status.busy": "2022-07-13T15:07:32.317392Z",
     "iopub.status.idle": "2022-07-13T15:07:32.336550Z",
     "shell.execute_reply": "2022-07-13T15:07:32.335108Z",
     "shell.execute_reply.started": "2022-07-13T15:07:32.317640Z"
    }
   },
   "outputs": [],
   "source": [
    "\n",
    "train=[]\n",
    "for i in range(16):\n",
    "    train += features[i][:split[i]] "
   ]
  },
  {
   "cell_type": "markdown",
   "metadata": {
    "_uuid": "39b99fb6094d25ba0fdac71069503f93787834ea"
   },
   "source": [
    "Training the model"
   ]
  },
  {
   "cell_type": "code",
   "execution_count": 28,
   "metadata": {
    "_uuid": "0f3cfefa97c2d4d413fefa67bedb4d93e20e28a7",
    "execution": {
     "iopub.status.busy": "2022-07-13T15:07:32.337762Z",
     "iopub.status.idle": "2022-07-13T15:07:32.338354Z"
    }
   },
   "outputs": [],
   "source": [
    "IntroExtro = NaiveBayesClassifier.train(train)"
   ]
  },
  {
   "cell_type": "markdown",
   "metadata": {
    "_uuid": "e1311522dc0a90625244e07d9dc2bc437905fb72"
   },
   "source": [
    "Testing the model on the dataset it was trained for accuracy"
   ]
  },
  {
   "cell_type": "code",
   "execution_count": 29,
   "metadata": {
    "_uuid": "5fa8d51db85ea6f5170a2a98cfb49b0c86a882d6",
    "execution": {
     "iopub.status.busy": "2022-07-13T15:07:32.339367Z",
     "iopub.status.idle": "2022-07-13T15:07:32.339878Z"
    },
    "scrolled": true
   },
   "outputs": [
    {
     "data": {
      "text/plain": [
       "80.76425473777905"
      ]
     },
     "execution_count": 29,
     "metadata": {},
     "output_type": "execute_result"
    }
   ],
   "source": [
    "nltk.classify.util.accuracy(IntroExtro, train)*100"
   ]
  },
  {
   "cell_type": "markdown",
   "metadata": {
    "_uuid": "d86e4151cff019a1ce26d810205251ab44722bfb"
   },
   "source": [
    "Creating the test data"
   ]
  },
  {
   "cell_type": "code",
   "execution_count": 30,
   "metadata": {
    "_uuid": "daccffb9ae1578e336417da72ff440da95e02b58",
    "execution": {
     "iopub.status.busy": "2022-07-13T15:07:32.340695Z",
     "iopub.status.idle": "2022-07-13T15:07:32.341202Z"
    }
   },
   "outputs": [],
   "source": [
    "test=[]\n",
    "for i in range(16):\n",
    "    test += features[i][split[i]:]"
   ]
  },
  {
   "cell_type": "markdown",
   "metadata": {
    "_uuid": "b65c6c98166ff1ad192679c2f33920b413814cc6"
   },
   "source": [
    "Testing the model on the test dataset which it has never seen before"
   ]
  },
  {
   "cell_type": "code",
   "execution_count": 31,
   "metadata": {
    "_uuid": "225dd7878c1839fde0afd98eb542965174e43284",
    "execution": {
     "iopub.status.busy": "2022-07-13T15:07:32.342096Z",
     "iopub.status.idle": "2022-07-13T15:07:32.342730Z"
    }
   },
   "outputs": [
    {
     "data": {
      "text/plain": [
       "58.109506269916814"
      ]
     },
     "execution_count": 31,
     "metadata": {},
     "output_type": "execute_result"
    }
   ],
   "source": [
    "nltk.classify.util.accuracy(IntroExtro, test)*100"
   ]
  },
  {
   "cell_type": "markdown",
   "metadata": {
    "_uuid": "ed4c624dd0dc41b69f97620c8b63df00d2e8f4cc"
   },
   "source": [
    "Seeing that this model has good somewhat good results, I shall repeat the same with the rest of the traits"
   ]
  },
  {
   "cell_type": "markdown",
   "metadata": {
    "_uuid": "6765c0a50cfa00abe02d82e54beb083513f576b9"
   },
   "source": [
    "## Creating a classifyer for Intuition (N) and Sensing (S)"
   ]
  },
  {
   "cell_type": "code",
   "execution_count": 32,
   "metadata": {
    "_uuid": "85b4bafa3ab5ab28d62bdf6f7900e13cb99d373b",
    "execution": {
     "iopub.status.busy": "2022-07-13T15:07:32.343445Z",
     "iopub.status.idle": "2022-07-13T15:07:32.343943Z"
    }
   },
   "outputs": [],
   "source": [
    "# Features for the bag of words model\n",
    "features=[]\n",
    "for j in types:\n",
    "    temp1 = all_posts[j]\n",
    "    temp1 = temp1.dropna() #not all the personality types have same number of files\n",
    "    if('N' in j):\n",
    "        features += [[(build_bag_of_words_features_filtered(i), 'Intuition') \\\n",
    "        for i in temp1]]\n",
    "    if('E' in j):\n",
    "        features += [[(build_bag_of_words_features_filtered(i), 'Sensing') \\\n",
    "        for i in temp1]]"
   ]
  },
  {
   "cell_type": "markdown",
   "metadata": {
    "_uuid": "7eef111f32cadb152e05ebfad3c1ddd153771e78"
   },
   "source": [
    "Data for training"
   ]
  },
  {
   "cell_type": "code",
   "execution_count": 33,
   "metadata": {
    "_uuid": "16e77e2f017c6e325efb01d0c2f1b08e0275df7b",
    "execution": {
     "iopub.status.busy": "2022-07-13T15:07:32.344746Z",
     "iopub.status.idle": "2022-07-13T15:07:32.345249Z"
    }
   },
   "outputs": [],
   "source": [
    "train=[]\n",
    "for i in range(16):\n",
    "    train += features[i][:split[i]] "
   ]
  },
  {
   "cell_type": "markdown",
   "metadata": {
    "_uuid": "592909a2a3e0f48e4fd3d79986284e8afa69e21c"
   },
   "source": [
    "Training the model"
   ]
  },
  {
   "cell_type": "code",
   "execution_count": 34,
   "metadata": {
    "_uuid": "9b4e1144c7503f5e2479e5653c7c94e64c72ae5a",
    "execution": {
     "iopub.status.busy": "2022-07-13T15:07:32.346268Z",
     "iopub.status.idle": "2022-07-13T15:07:32.346783Z"
    }
   },
   "outputs": [],
   "source": [
    "IntuitionSensing = NaiveBayesClassifier.train(train)"
   ]
  },
  {
   "cell_type": "markdown",
   "metadata": {
    "_uuid": "44adef77bfbc3cb4a47083f68375f2bb504eafb7"
   },
   "source": [
    "Testing the model on the dataset it was trained for accuracy"
   ]
  },
  {
   "cell_type": "code",
   "execution_count": 35,
   "metadata": {
    "_uuid": "ef7ba72cf11a1db5dd681e27a0f6bbaecf71407c",
    "execution": {
     "iopub.status.busy": "2022-07-13T15:07:32.347573Z",
     "iopub.status.idle": "2022-07-13T15:07:32.348285Z"
    },
    "scrolled": true
   },
   "outputs": [
    {
     "data": {
      "text/plain": [
       "70.01473096604126"
      ]
     },
     "execution_count": 35,
     "metadata": {},
     "output_type": "execute_result"
    }
   ],
   "source": [
    "nltk.classify.util.accuracy(IntuitionSensing, train)*100"
   ]
  },
  {
   "cell_type": "markdown",
   "metadata": {
    "_uuid": "bd1151feaed8186de445f49a0312d65662bc2ee0"
   },
   "source": [
    "Creating the test data"
   ]
  },
  {
   "cell_type": "code",
   "execution_count": 36,
   "metadata": {
    "_uuid": "7978094d62e93fab92fa1baa317e7f88b584f6cb",
    "execution": {
     "iopub.status.busy": "2022-07-13T15:07:32.349131Z",
     "iopub.status.idle": "2022-07-13T15:07:32.349718Z"
    }
   },
   "outputs": [],
   "source": [
    "test=[]\n",
    "for i in range(16):\n",
    "    test += features[i][split[i]:]"
   ]
  },
  {
   "cell_type": "markdown",
   "metadata": {
    "_uuid": "64eacd6d7ea9411c03daf46048e65f7f39e57439"
   },
   "source": [
    "Testing the model on the test dataset which it has never seen before"
   ]
  },
  {
   "cell_type": "code",
   "execution_count": 37,
   "metadata": {
    "_uuid": "5530407b17783aa9750263045c4e82fc9ede4193",
    "execution": {
     "iopub.status.busy": "2022-07-13T15:07:32.350572Z",
     "iopub.status.idle": "2022-07-13T15:07:32.351145Z"
    }
   },
   "outputs": [
    {
     "data": {
      "text/plain": [
       "54.43569200386005"
      ]
     },
     "execution_count": 37,
     "metadata": {},
     "output_type": "execute_result"
    }
   ],
   "source": [
    "nltk.classify.util.accuracy(IntuitionSensing, test)*100"
   ]
  },
  {
   "cell_type": "markdown",
   "metadata": {
    "_uuid": "939377c2a60e87473452f8ccf2ac3f65cb92184a"
   },
   "source": [
    "## Creating a classifyer for Thinking (T) and Feeling (F)"
   ]
  },
  {
   "cell_type": "code",
   "execution_count": 38,
   "metadata": {
    "_uuid": "16c94864f18f7813ef48303b0813a82df5faf21b",
    "execution": {
     "iopub.status.busy": "2022-07-13T15:07:32.352226Z",
     "iopub.status.idle": "2022-07-13T15:07:32.352777Z"
    }
   },
   "outputs": [],
   "source": [
    "# Features for the bag of words model\n",
    "features=[]\n",
    "for j in types:\n",
    "    temp1 = all_posts[j]\n",
    "    temp1 = temp1.dropna() #not all the personality types have same number of files\n",
    "    if('T' in j):\n",
    "        features += [[(build_bag_of_words_features_filtered(i), 'Thinking') \\\n",
    "        for i in temp1]]\n",
    "    if('F' in j):\n",
    "        features += [[(build_bag_of_words_features_filtered(i), 'Feeling') \\\n",
    "        for i in temp1]]"
   ]
  },
  {
   "cell_type": "markdown",
   "metadata": {
    "_uuid": "64ad5abdba282c032bb3d05c750e43a3b0aef2ad"
   },
   "source": [
    "Data for training"
   ]
  },
  {
   "cell_type": "code",
   "execution_count": 39,
   "metadata": {
    "_uuid": "8695bea4e9df4c7f2c68d0326438bab6f2adca61",
    "execution": {
     "iopub.status.busy": "2022-07-13T15:07:32.353567Z",
     "iopub.status.idle": "2022-07-13T15:07:32.354039Z"
    }
   },
   "outputs": [],
   "source": [
    "train=[]\n",
    "for i in range(16):\n",
    "    train += features[i][:split[i]] "
   ]
  },
  {
   "cell_type": "markdown",
   "metadata": {
    "_uuid": "55eea684d80fa25b5e64593d39b1c3ecf03bf881"
   },
   "source": [
    "Training the model"
   ]
  },
  {
   "cell_type": "code",
   "execution_count": 40,
   "metadata": {
    "_uuid": "e4957976f0e457d3c02cebb8d0410162aa17819e",
    "execution": {
     "iopub.status.busy": "2022-07-13T15:07:32.354912Z",
     "iopub.status.idle": "2022-07-13T15:07:32.355494Z"
    }
   },
   "outputs": [],
   "source": [
    "ThinkingFeeling = NaiveBayesClassifier.train(train)"
   ]
  },
  {
   "cell_type": "markdown",
   "metadata": {
    "_uuid": "22a822dd4c965fe0d07a14727712f5b7d13b6905"
   },
   "source": [
    "Testing the model on the dataset it was trained for accuracy"
   ]
  },
  {
   "cell_type": "code",
   "execution_count": 41,
   "metadata": {
    "_uuid": "dcb9f355cfc7cf654c7c7dc852c7cdf96a3d5511",
    "execution": {
     "iopub.status.busy": "2022-07-13T15:07:32.356300Z",
     "iopub.status.idle": "2022-07-13T15:07:32.356755Z"
    },
    "scrolled": true
   },
   "outputs": [
    {
     "data": {
      "text/plain": [
       "79.64229897430059"
      ]
     },
     "execution_count": 41,
     "metadata": {},
     "output_type": "execute_result"
    }
   ],
   "source": [
    "nltk.classify.util.accuracy(ThinkingFeeling, train)*100"
   ]
  },
  {
   "cell_type": "markdown",
   "metadata": {
    "_uuid": "2b0c8929460dd615caab7954edd65ffa0b0d1e3f"
   },
   "source": [
    "Creating the test data"
   ]
  },
  {
   "cell_type": "code",
   "execution_count": 42,
   "metadata": {
    "_uuid": "e0afea3a82d77e0d4aa32ce16f3b037cd7b90219",
    "execution": {
     "iopub.status.busy": "2022-07-13T15:07:32.357517Z",
     "iopub.status.idle": "2022-07-13T15:07:32.358013Z"
    }
   },
   "outputs": [],
   "source": [
    "test=[]\n",
    "for i in range(16):\n",
    "    test += features[i][split[i]:]"
   ]
  },
  {
   "cell_type": "markdown",
   "metadata": {
    "_uuid": "cf9c51cbab8326ad77fb77a58877d9626ab14002"
   },
   "source": [
    "Testing the model on the test dataset which it has never seen before"
   ]
  },
  {
   "cell_type": "code",
   "execution_count": 43,
   "metadata": {
    "_uuid": "5ddcd665f3b0e7fdaabc817309b2ea92ba0daa84",
    "execution": {
     "iopub.status.busy": "2022-07-13T15:07:32.359025Z",
     "iopub.status.idle": "2022-07-13T15:07:32.359571Z"
    }
   },
   "outputs": [
    {
     "data": {
      "text/plain": [
       "59.48764640152299"
      ]
     },
     "execution_count": 43,
     "metadata": {},
     "output_type": "execute_result"
    }
   ],
   "source": [
    "nltk.classify.util.accuracy(ThinkingFeeling, test)*100"
   ]
  },
  {
   "cell_type": "markdown",
   "metadata": {
    "_uuid": "2638f37c273a9462711df93b20bb8ecd72cc3896"
   },
   "source": [
    "## Creating a classifyer for Judging (J) and Percieving (P)"
   ]
  },
  {
   "cell_type": "code",
   "execution_count": 44,
   "metadata": {
    "_uuid": "79646248ac9aeb950fc957e6b876b44cb31cf130",
    "execution": {
     "iopub.status.busy": "2022-07-13T15:07:32.360468Z",
     "iopub.status.idle": "2022-07-13T15:07:32.361120Z"
    }
   },
   "outputs": [],
   "source": [
    "# Features for the bag of words model\n",
    "features=[]\n",
    "for j in types:\n",
    "    temp1 = all_posts[j]\n",
    "    temp1 = temp1.dropna() #not all the personality types have same number of files\n",
    "    if('J' in j):\n",
    "        features += [[(build_bag_of_words_features_filtered(i), 'Judging') \\\n",
    "        for i in temp1]]\n",
    "    if('P' in j):\n",
    "        features += [[(build_bag_of_words_features_filtered(i), 'Percieving') \\\n",
    "        for i in temp1]]"
   ]
  },
  {
   "cell_type": "markdown",
   "metadata": {
    "_uuid": "0232daa44ab2d286b694a2b73af0433e6d2969e5"
   },
   "source": [
    "Data for training"
   ]
  },
  {
   "cell_type": "code",
   "execution_count": 45,
   "metadata": {
    "_uuid": "62c38900f7179032146564bb787877245ac3d3c4",
    "execution": {
     "iopub.status.busy": "2022-07-13T15:07:32.361848Z",
     "iopub.status.idle": "2022-07-13T15:07:32.362421Z"
    }
   },
   "outputs": [],
   "source": [
    "train=[]\n",
    "for i in range(16):\n",
    "    train += features[i][:split[i]] "
   ]
  },
  {
   "cell_type": "markdown",
   "metadata": {
    "_uuid": "f638df8e5839cc47b1e371f491081f43435fa528"
   },
   "source": [
    "Training the model"
   ]
  },
  {
   "cell_type": "code",
   "execution_count": 46,
   "metadata": {
    "_uuid": "91c1317cb7caaf3aea3916ac3bf22b6c2f33cf2d",
    "execution": {
     "iopub.status.busy": "2022-07-13T15:07:32.363254Z",
     "iopub.status.idle": "2022-07-13T15:07:32.363772Z"
    }
   },
   "outputs": [],
   "source": [
    "JudgingPercieiving = NaiveBayesClassifier.train(train)"
   ]
  },
  {
   "cell_type": "markdown",
   "metadata": {
    "_uuid": "d1b7e2bc332bf8085a2cff042083dbde73adf7bc"
   },
   "source": [
    "Testing the model on the dataset it was trained for accuracy"
   ]
  },
  {
   "cell_type": "code",
   "execution_count": 47,
   "metadata": {
    "_uuid": "9c3cb5d0eb3640d8fbc1285cba35af26bc18112b",
    "execution": {
     "iopub.status.busy": "2022-07-13T15:07:32.364588Z",
     "iopub.status.idle": "2022-07-13T15:07:32.365086Z"
    },
    "scrolled": true
   },
   "outputs": [
    {
     "data": {
      "text/plain": [
       "79.38251032427006"
      ]
     },
     "execution_count": 47,
     "metadata": {},
     "output_type": "execute_result"
    }
   ],
   "source": [
    "nltk.classify.util.accuracy(JudgingPercieiving, train)*100"
   ]
  },
  {
   "cell_type": "markdown",
   "metadata": {
    "_uuid": "df666a14baa285f16922798183b23021415b27ba"
   },
   "source": [
    "Creating the test data"
   ]
  },
  {
   "cell_type": "code",
   "execution_count": 48,
   "metadata": {
    "_uuid": "7ed4ffc949f727d43f8a0635ee27331e82333927",
    "execution": {
     "iopub.status.busy": "2022-07-13T15:07:32.365888Z",
     "iopub.status.idle": "2022-07-13T15:07:32.366357Z"
    }
   },
   "outputs": [],
   "source": [
    "test=[]\n",
    "for i in range(16):\n",
    "    test += features[i][split[i]:]"
   ]
  },
  {
   "cell_type": "markdown",
   "metadata": {
    "_uuid": "c61796a09ba127bcba391eb177d9e98bfc298e4c"
   },
   "source": [
    "Testing the model on the test dataset which it has never seen before"
   ]
  },
  {
   "cell_type": "code",
   "execution_count": 49,
   "metadata": {
    "_uuid": "39de4ac50b744d0d0c7ce7efc3d37717ed95eec6",
    "execution": {
     "iopub.status.busy": "2022-07-13T15:07:32.367267Z",
     "iopub.status.idle": "2022-07-13T15:07:32.367832Z"
    }
   },
   "outputs": [
    {
     "data": {
      "text/plain": [
       "54.372387534660426"
      ]
     },
     "execution_count": 49,
     "metadata": {},
     "output_type": "execute_result"
    }
   ],
   "source": [
    "nltk.classify.util.accuracy(JudgingPercieiving, test)*100"
   ]
  },
  {
   "cell_type": "markdown",
   "metadata": {
    "_uuid": "86d39c896a2dcf81f209e832575b271c30c170a1"
   },
   "source": [
    "# Summarizing the results of the models\n",
    "***\n"
   ]
  },
  {
   "cell_type": "code",
   "execution_count": 50,
   "metadata": {
    "_uuid": "0261680d17b7d53253653f055a0da3a32082f258",
    "execution": {
     "iopub.status.busy": "2022-07-13T15:07:32.368665Z",
     "iopub.status.idle": "2022-07-13T15:07:32.369141Z"
    }
   },
   "outputs": [
    {
     "data": {
      "text/html": [
       "<div>\n",
       "<style scoped>\n",
       "    .dataframe tbody tr th:only-of-type {\n",
       "        vertical-align: middle;\n",
       "    }\n",
       "\n",
       "    .dataframe tbody tr th {\n",
       "        vertical-align: top;\n",
       "    }\n",
       "\n",
       "    .dataframe thead th {\n",
       "        text-align: right;\n",
       "    }\n",
       "</style>\n",
       "<table border=\"1\" class=\"dataframe\">\n",
       "  <thead>\n",
       "    <tr style=\"text-align: right;\">\n",
       "      <th></th>\n",
       "      <th>Introvert - Extrovert</th>\n",
       "      <th>Intuition - Sensing</th>\n",
       "      <th>Thinking - Feeling</th>\n",
       "      <th>Judging - Percieiving</th>\n",
       "    </tr>\n",
       "  </thead>\n",
       "  <tbody>\n",
       "    <tr>\n",
       "      <th>train</th>\n",
       "      <td>81.124440</td>\n",
       "      <td>70.145242</td>\n",
       "      <td>80.034569</td>\n",
       "      <td>79.793411</td>\n",
       "    </tr>\n",
       "    <tr>\n",
       "      <th>test</th>\n",
       "      <td>58.204693</td>\n",
       "      <td>54.462623</td>\n",
       "      <td>59.413152</td>\n",
       "      <td>54.405496</td>\n",
       "    </tr>\n",
       "  </tbody>\n",
       "</table>\n",
       "</div>"
      ],
      "text/plain": [
       "       Introvert - Extrovert  Intuition - Sensing  Thinking - Feeling  \\\n",
       "train              81.124440            70.145242           80.034569   \n",
       "test               58.204693            54.462623           59.413152   \n",
       "\n",
       "       Judging - Percieiving  \n",
       "train              79.793411  \n",
       "test               54.405496  "
      ]
     },
     "execution_count": 50,
     "metadata": {},
     "output_type": "execute_result"
    }
   ],
   "source": [
    "temp = {'train' : [81.12443979837917,70.14524215640667,80.03456948570128,79.79341109742592], 'test' : [58.20469312585358,54.46262259027357,59.41315234035509,54.40549600629061]}\n",
    "results = pd.DataFrame.from_dict(temp, orient='index', columns=['Introvert - Extrovert', 'Intuition - Sensing', 'Thinking - Feeling', 'Judging - Percieiving'])\n",
    "results"
   ]
  },
  {
   "cell_type": "markdown",
   "metadata": {
    "_uuid": "902d13554137516a8770804503717d6a37451487"
   },
   "source": [
    "Plotting the results for better appeal"
   ]
  },
  {
   "cell_type": "code",
   "execution_count": 51,
   "metadata": {
    "_uuid": "4c0c3d6bc3a5a9ca687d95a912a002d2f5459760",
    "execution": {
     "iopub.status.busy": "2022-07-13T15:07:32.369942Z",
     "iopub.status.idle": "2022-07-13T15:07:32.370534Z"
    }
   },
   "outputs": [
    {
     "data": {
      "text/plain": [
       "Text(0.5, 1.0, 'Total posts for each personality type')"
      ]
     },
     "execution_count": 51,
     "metadata": {},
     "output_type": "execute_result"
    },
    {
     "data": {
      "image/png": "[encoded data removed]",
      "text/plain": [
       "<Figure size 864x432 with 1 Axes>"
      ]
     },
     "metadata": {
      "needs_background": "light"
     },
     "output_type": "display_data"
    }
   ],
   "source": [
    "plt.figure(figsize = (12,6))\n",
    "\n",
    "plt.bar(np.array(results.columns), height = results.loc['train'],)\n",
    "plt.xlabel('Personality types', size = 14)\n",
    "plt.ylabel('Number of posts available', size = 14)\n",
    "plt.title('Total posts for each personality type')"
   ]
  },
  {
   "cell_type": "code",
   "execution_count": 52,
   "metadata": {
    "_uuid": "318a256a8f4e05fe6a6763b373ec2cdb47f0de29",
    "execution": {
     "iopub.status.busy": "2022-07-13T15:07:32.371285Z",
     "iopub.status.idle": "2022-07-13T15:07:32.371738Z"
    }
   },
   "outputs": [
    {
     "data": {
      "image/png": "[encoded data removed]",
      "text/plain": [
       "<Figure size 864x432 with 1 Axes>"
      ]
     },
     "metadata": {
      "needs_background": "light"
     },
     "output_type": "display_data"
    }
   ],
   "source": [
    "labels = np.array(results.columns)\n",
    "\n",
    "training = results.loc['train']\n",
    "ind = np.arange(4)\n",
    "width = 0.4\n",
    "fig = plt.figure()\n",
    "ax = fig.add_subplot(111)\n",
    "rects1 = ax.bar(ind, training, width, color='royalblue')\n",
    "\n",
    "testing = results.loc['test']\n",
    "rects2 = ax.bar(ind+width, testing, width, color='seagreen')\n",
    "\n",
    "fig.set_size_inches(12, 6)\n",
    "fig.savefig('Results.png', dpi=200)\n",
    "\n",
    "ax.set_xlabel('Model Classifying Trait', size = 18)\n",
    "ax.set_ylabel('Accuracy Percent (%)', size = 18)\n",
    "ax.set_xticks(ind + width / 2)\n",
    "ax.set_xticklabels(labels)\n",
    "ax.legend((rects1[0], rects2[0]), ('Tested on a known dataframe', 'Tested on an unknown dataframe'))\n",
    "plt.show()"
   ]
  },
  {
   "cell_type": "markdown",
   "metadata": {
    "_uuid": "0bc4785934ac70c57a028f10d0bb8a7e93c78c48"
   },
   "source": [
    "# Testing the models to predict my trait my feeding few of my quora writings\n",
    "\n",
    "link to my quora answers feed: https://www.quora.com/profile/Divya-Bramhecha"
   ]
  },
  {
   "cell_type": "markdown",
   "metadata": {
    "_uuid": "73713f15035b8794105d79d408303538f70d81e8"
   },
   "source": [
    "Defining a functions that inputs the writings, tokenizes them and then predicts the output based on our earlier classifiers"
   ]
  },
  {
   "cell_type": "code",
   "execution_count": 53,
   "metadata": {
    "_uuid": "1185cfaace1c5df6b334ca51b3b0bd1960ede4d8",
    "execution": {
     "iopub.status.busy": "2022-07-13T15:07:32.372583Z",
     "iopub.status.idle": "2022-07-13T15:07:32.373059Z"
    }
   },
   "outputs": [],
   "source": [
    "def MBTI(input):\n",
    "    tokenize = build_bag_of_words_features_filtered(input)\n",
    "    ie = IntroExtro.classify(tokenize)\n",
    "    Is = IntuitionSensing.classify(tokenize)\n",
    "    tf = ThinkingFeeling.classify(tokenize)\n",
    "    jp = JudgingPercieiving.classify(tokenize)\n",
    "    \n",
    "    mbt = ''\n",
    "    \n",
    "    if(ie == 'introvert'):\n",
    "        mbt+='I'\n",
    "    if(ie == 'extrovert'):\n",
    "        mbt+='E'\n",
    "    if(Is == 'Intuition'):\n",
    "        mbt+='N'\n",
    "    if(Is == 'Sensing'):\n",
    "        mbt+='S'\n",
    "    if(tf == 'Thinking'):\n",
    "        mbt+='T'\n",
    "    if(tf == 'Feeling'):\n",
    "        mbt+='F'\n",
    "    if(jp == 'Judging'):\n",
    "        mbt+='J'\n",
    "    if(jp == 'Percieving'):\n",
    "        mbt+='P'\n",
    "    return(mbt)\n",
    "    "
   ]
  },
  {
   "cell_type": "markdown",
   "metadata": {
    "_uuid": "ab4ed37dc3cf0d18f3ac76ca042ceb2348f172c0"
   },
   "source": [
    "### Building another functions that takes all of my posts as input and outputs the graph showing percentage of each trait seen in each posts and sums up displaying your personality as the graph title\n",
    "\n",
    "**Note:** The input should be an array of your posts"
   ]
  },
  {
   "cell_type": "code",
   "execution_count": 54,
   "metadata": {
    "_uuid": "ceaaa08742e3dfb2ba1d51bb7e8af74c68cad824",
    "execution": {
     "iopub.status.busy": "2022-07-13T15:07:32.373858Z",
     "iopub.status.idle": "2022-07-13T15:07:32.374530Z"
    }
   },
   "outputs": [],
   "source": [
    "import pandas as pd\n",
    "\n",
    "def tellmemyMBTI(input, name, traasits=[]):\n",
    "    a = []\n",
    "    trait1 = pd.DataFrame([0,0,0,0],['I','N','T','J'],['count'])\n",
    "    trait2 = pd.DataFrame([0,0,0,0],['E','S','F','P'],['count'])\n",
    "    for i in input:\n",
    "        a += [MBTI(i)]\n",
    "    for i in a:\n",
    "        for j in ['I','N','T','J']:\n",
    "            if(j in i):\n",
    "                trait1.loc[j]+=1                \n",
    "        for j in ['E','S','F','P']:\n",
    "            if(j in i):\n",
    "                trait2.loc[j]+=1 \n",
    "    trait1 = trait1.T\n",
    "    trait1 = trait1*100/len(input)\n",
    "    trait2 = trait2.T\n",
    "    trait2 = trait2*100/len(input)\n",
    "    \n",
    "    \n",
    "    #Finding the personality\n",
    "    YourTrait = ''\n",
    "    for i,j in zip(trait1,trait2):\n",
    "        temp = max(trait1[i][0],trait2[j][0])\n",
    "        if(trait1[i][0]==temp):\n",
    "            YourTrait += i  \n",
    "        if(trait2[j][0]==temp):\n",
    "            YourTrait += j\n",
    "    traasits +=[YourTrait] \n",
    "    \n",
    "    #Plotting\n",
    "    \n",
    "    labels = np.array(results.columns)\n",
    "\n",
    "    intj = trait1.loc['count']\n",
    "    ind = np.arange(4)\n",
    "    width = 0.4\n",
    "    fig = plt.figure()\n",
    "    ax = fig.add_subplot(111)\n",
    "    rects1 = ax.bar(ind, intj, width, color='royalblue')\n",
    "\n",
    "    esfp = trait2.loc['count']\n",
    "    rects2 = ax.bar(ind+width, esfp, width, color='seagreen')\n",
    "\n",
    "    fig.set_size_inches(10, 7)\n",
    "    \n",
    "    \n",
    "\n",
    "    ax.set_xlabel('Finding the MBTI Trait', size = 18)\n",
    "    ax.set_ylabel('Trait Percent (%)', size = 18)\n",
    "    ax.set_xticks(ind + width / 2)\n",
    "    ax.set_xticklabels(labels)\n",
    "    ax.set_yticks(np.arange(0,105, step= 10))\n",
    "    ax.set_title('Your Personality is '+YourTrait,size = 20)\n",
    "    plt.grid(True)\n",
    "    \n",
    "    \n",
    "    fig.savefig(name+'.png', dpi=200)\n",
    "    \n",
    "    plt.show()\n",
    "    return(traasits)\n",
    "        "
   ]
  },
  {
   "cell_type": "markdown",
   "metadata": {
    "_uuid": "572fd125be7e545b69e47b087ee76477f9c512c7"
   },
   "source": [
    "# Importing my quora answers from a text file\n",
    "\n",
    "I copied all my answer from the link i provided before (i broke down the paragraphs as separte posts)"
   ]
  },
  {
   "cell_type": "code",
   "execution_count": 62,
   "metadata": {
    "execution": {
     "iopub.execute_input": "2022-07-13T15:14:47.164054Z",
     "iopub.status.busy": "2022-07-13T15:14:47.163725Z",
     "iopub.status.idle": "2022-07-13T15:14:47.173372Z",
     "shell.execute_reply": "2022-07-13T15:14:47.172370Z",
     "shell.execute_reply.started": "2022-07-13T15:14:47.164001Z"
    }
   },
   "outputs": [
    {
     "name": "stdout",
     "output_type": "stream",
     "text": [
      "['./input/journals/2022-02-05.txt', './input/journals/2022-02-03.txt', './input/journals/2022-01-20.txt', './input/journals/2022-01-19.txt', './input/journals/2022-01-07.txt', './input/journals/2022-02-19.txt', './input/journals/2022-02-26.txt']\n",
      "['./input/stasbar/patopato.txt', './input/stasbar/no-one-value-what-you-value.txt', './input/stasbar/holygrail.txt', './input/stasbar/appreciate.txt', './input/stasbar/truth.txt', './input/stasbar/first-business.txt', './input/stasbar/commandments.txt', './input/stasbar/mothers-and-doughters.txt', './input/stasbar/1min.txt', './input/stasbar/beginner-expert.txt', './input/stasbar/opinions.txt']\n",
      "['./input/sivers/bp.txt', './input/sivers/tk.txt', './input/sivers/left.txt', './input/sivers/dive.txt', './input/sivers/bfaq.txt']\n"
     ]
    }
   ],
   "source": [
    "import os\n",
    "jrnls = [\n",
    "    \"../input/journal/2022-02-03.txt\", \n",
    "    \"../input/journal/2022-02-05.txt\",\n",
    "    \"../input/journal/2022-02-19.txt\",\n",
    "    \"../input/journal/2022-02-26.txt\",\n",
    "    \"../input/journal/2022-01-07.txt\",\n",
    "]\n",
    "\n",
    "\n",
    "\n",
    "my_texts = [\n",
    "    \"../input/essays/1min.txt\",\n",
    "    \"../input/essays/appreciate.txt\",\n",
    "    \"../input/essays/beginner-expert.txt\",\n",
    "    \"../input/essays/commandments.txt\",\n",
    "    \"../input/essays/first-business.txt\",\n",
    "    \"../input/essays/holygrail.txt\",\n",
    "    \"../input/essays/mothers-and-doughters.txt\",\n",
    "    \"../input/essays/no-one-value-what-you-value.txt\",\n",
    "    \"../input/essays/opinions.txt\",\n",
    "    \"../input/essays/patopato.txt\",\n",
    "    \"../input/essays/truth.txt\",\n",
    "]\n",
    "\n",
    "journals_texts = []\n",
    "for dirname, _, filenames in os.walk('./input/journals'):\n",
    "    for filename in filenames:\n",
    "        journals_texts.append(os.path.join(dirname, filename))\n",
    "\n",
    "stasbar_texts = []\n",
    "for dirname, _, filenames in os.walk('./input/stasbar'):\n",
    "    for filename in filenames:\n",
    "        stasbar_texts.append(os.path.join(dirname, filename))\n",
    "        \n",
    "sivers_texts = []\n",
    "for dirname, _, filenames in os.walk('./input/sivers'):\n",
    "    for filename in filenames:\n",
    "        sivers_texts.append(os.path.join(dirname, filename))\n"
   ]
  },
  {
   "cell_type": "markdown",
   "metadata": {
    "_uuid": "8acac980960382ffa36ae285b7707774476da5b3"
   },
   "source": [
    "# Using the classifier to predict my personality type"
   ]
  },
  {
   "cell_type": "code",
   "execution_count": 59,
   "metadata": {
    "execution": {
     "iopub.execute_input": "2022-07-13T15:14:49.444322Z",
     "iopub.status.busy": "2022-07-13T15:14:49.444005Z",
     "iopub.status.idle": "2022-07-13T15:14:49.474172Z",
     "shell.execute_reply": "2022-07-13T15:14:49.473038Z",
     "shell.execute_reply.started": "2022-07-13T15:14:49.444266Z"
    }
   },
   "outputs": [],
   "source": [
    "def predict_for_texts(sivers_texts):\n",
    "    for text in sivers_texts:\n",
    "        lines = [line for line in [line.strip() for line in open(text).readlines()] if line]\n",
    "        a = []\n",
    "        trait1 = pd.DataFrame([0,0,0,0],['I','N','T','J'],['count'])\n",
    "        trait2 = pd.DataFrame([0,0,0,0],['E','S','F','P'],['count'])\n",
    "        for i in lines:\n",
    "            a += [MBTI(i)]\n",
    "        for i in a:\n",
    "            for j in ['I','N','T','J']:\n",
    "                if(j in i):\n",
    "                    trait1.loc[j]+=1                \n",
    "            for j in ['E','S','F','P']:\n",
    "                if(j in i):\n",
    "                    trait2.loc[j]+=1 \n",
    "        trait1 = trait1.T\n",
    "        trait1 = trait1*100/len(lines)\n",
    "        trait2 = trait2.T\n",
    "        trait2 = trait2*100/len(lines)\n",
    "        #Finding the personality\n",
    "        YourTrait = ''\n",
    "        traasits=[]\n",
    "        for i,j in zip(trait1,trait2):\n",
    "            temp = max(trait1[i][0],trait2[j][0])\n",
    "            if(trait1[i][0]==temp):\n",
    "                YourTrait += i  \n",
    "            if(trait2[j][0]==temp):\n",
    "                YourTrait += j\n",
    "        traasits +=[YourTrait] \n",
    "\n",
    "        print(YourTrait, text)\n",
    "\n",
    "    \n",
    "# trait = tellmemyMBTI(beginner_expert, \"Stach\")"
   ]
  },
  {
   "cell_type": "code",
   "execution_count": 66,
   "metadata": {
    "scrolled": true
   },
   "outputs": [
    {
     "name": "stdout",
     "output_type": "stream",
     "text": [
      "\n",
      "\n",
      "My journals:\n",
      "ENTP ./input/journals/2022-02-05.txt\n",
      "INFJ ./input/journals/2022-02-03.txt\n",
      "INTJ ./input/journals/2022-01-20.txt\n",
      "INTJ ./input/journals/2022-01-19.txt\n",
      "ENFP ./input/journals/2022-01-07.txt\n",
      "ENFP ./input/journals/2022-02-19.txt\n",
      "INFJ ./input/journals/2022-02-26.txt\n",
      "\n",
      "\n",
      "stan.bar posts:\n",
      "INFJ ./input/stasbar/patopato.txt\n",
      "INTJ ./input/stasbar/no-one-value-what-you-value.txt\n",
      "INTJ ./input/stasbar/holygrail.txt\n",
      "INTFJ ./input/stasbar/appreciate.txt\n",
      "INFJ ./input/stasbar/truth.txt\n",
      "ENTP ./input/stasbar/first-business.txt\n",
      "INTP ./input/stasbar/commandments.txt\n",
      "INFJ ./input/stasbar/mothers-and-doughters.txt\n",
      "INTJP ./input/stasbar/1min.txt\n",
      "INTJ ./input/stasbar/beginner-expert.txt\n",
      "INFJ ./input/stasbar/opinions.txt\n",
      "\n",
      "\n",
      "Derek Sivers posts:\n",
      "INTJ ./input/sivers/bp.txt\n",
      "INFP ./input/sivers/tk.txt\n",
      "INTJP ./input/sivers/left.txt\n",
      "INFP ./input/sivers/dive.txt\n",
      "INFJ ./input/sivers/bfaq.txt\n"
     ]
    }
   ],
   "source": [
    "print(\"\\n\\nMy journals:\")\n",
    "predict_for_texts(journals_texts)\n",
    "\n",
    "print(\"\\n\\nstan.bar posts:\")\n",
    "predict_for_texts(stasbar_texts)\n",
    "\n",
    "print(\"\\n\\nDerek Sivers posts:\")\n",
    "predict_for_texts(sivers_texts)\n",
    "\n"
   ]
  },
  {
   "cell_type": "markdown",
   "metadata": {
    "_uuid": "ed1cbe3fa7c051944b605cdc2894f6c0ea1cb4a0"
   },
   "source": [
    "# Concluding note\n",
    "\n",
    "My profile according to https://www.16personalities.com/ is INTJ.\n",
    "\n",
    "I am pretty happy that using such a basic model it was pretty close to my real profile, only 1 different. And even that difference was very close, between 10% inaccuary which pretty good.\n",
    "\n",
    "Although, I am not sure how the classifier will perform on all test cases in general. Specially, the data for some profiles was very less."
   ]
  },
  {
   "cell_type": "code",
   "execution_count": 61,
   "metadata": {
    "_uuid": "9adfdd6c67746864a3328516ae7f225c28a60fd3",
    "execution": {
     "iopub.status.busy": "2022-07-13T15:07:32.378012Z",
     "iopub.status.idle": "2022-07-13T15:07:32.378652Z"
    }
   },
   "outputs": [
    {
     "name": "stdout",
     "output_type": "stream",
     "text": [
      "Most Informative Features\n",
      "                    Rant = 1              introv : extrov =     15.9 : 1.0\n",
      "              Explaining = 1              extrov : introv =     14.8 : 1.0\n",
      "                    perC = 1              extrov : introv =     13.8 : 1.0\n",
      "                     BPD = 1              extrov : introv =     12.8 : 1.0\n",
      "                   Eagle = 1              extrov : introv =     12.5 : 1.0\n",
      "                    Rave = 1              introv : extrov =     10.3 : 1.0\n",
      "                     aha = 1              extrov : introv =      9.7 : 1.0\n",
      "                    doin = 1              extrov : introv =      9.7 : 1.0\n",
      "                    mock = 1              extrov : introv =      9.7 : 1.0\n",
      "                Napoleon = 1              extrov : introv =      9.5 : 1.0\n",
      "Most Informative Features\n",
      "                     I´m = 1              Sensin : Intuit =      9.7 : 1.0\n",
      "              Characters = 1              Sensin : Intuit =      8.7 : 1.0\n",
      "            ColdNobility = 1              Sensin : Intuit =      7.6 : 1.0\n",
      "                    I´ve = 1              Sensin : Intuit =      7.6 : 1.0\n",
      "                   entps = 1              Sensin : Intuit =      7.6 : 1.0\n",
      "                 thyself = 1              Intuit : Sensin =      7.2 : 1.0\n",
      "                   Brain = 1              Intuit : Sensin =      6.8 : 1.0\n",
      "                    Five = 1              Intuit : Sensin =      6.8 : 1.0\n",
      "                  daring = 1              Sensin : Intuit =      6.6 : 1.0\n",
      "                     Mac = 1              Sensin : Intuit =      6.4 : 1.0\n",
      "Most Informative Features\n",
      "                   Eagle = 1              Thinki : Feelin =     11.2 : 1.0\n",
      "                    brag = 1              Thinki : Feelin =     11.1 : 1.0\n",
      "                   entps = 1              Thinki : Feelin =     11.1 : 1.0\n",
      "                 thyself = 1              Feelin : Thinki =     10.9 : 1.0\n",
      "                    bull = 1              Thinki : Feelin =      9.8 : 1.0\n",
      "                     aww = 1              Feelin : Thinki =      9.5 : 1.0\n",
      "            snowboarding = 1              Thinki : Feelin =      9.2 : 1.0\n",
      "             sociopathic = 1              Thinki : Feelin =      9.2 : 1.0\n",
      "                      .I = 1              Feelin : Thinki =      8.8 : 1.0\n",
      "                    Into = 1              Feelin : Thinki =      8.8 : 1.0\n",
      "Most Informative Features\n",
      "                   Eagle = 1              Judgin : Percie =     21.6 : 1.0\n",
      "feature=player_detailpage = 1              Percie : Judgin =     16.6 : 1.0\n",
      "                    Rant = 1              Judgin : Percie =     16.2 : 1.0\n",
      "                    Rave = 1              Judgin : Percie =     12.9 : 1.0\n",
      "              Enthusiast = 1              Judgin : Percie =     12.4 : 1.0\n",
      "                    Sela = 1              Judgin : Percie =     11.7 : 1.0\n",
      "               Wonderful = 1              Judgin : Percie =     11.7 : 1.0\n",
      "                      KC = 1              Judgin : Percie =     11.0 : 1.0\n",
      "                    RANT = 1              Judgin : Percie =     10.3 : 1.0\n",
      "             distracting = 1              Percie : Judgin =      9.1 : 1.0\n"
     ]
    }
   ],
   "source": [
    "IntroExtro.show_most_informative_features()\n",
    "IntuitionSensing.show_most_informative_features()\n",
    "ThinkingFeeling.show_most_informative_features()\n",
    "JudgingPercieiving.show_most_informative_features()"
   ]
  },
  {
   "cell_type": "code",
   "execution_count": null,
   "metadata": {},
   "outputs": [],
   "source": []
  }
 ],
 "metadata": {
  "kernelspec": {
   "display_name": "Python 3 (ipykernel)",
   "language": "python",
   "name": "python3"
  },
  "language_info": {
   "codemirror_mode": {
    "name": "ipython",
    "version": 3
   },
   "file_extension": ".py",
   "mimetype": "text/x-python",
   "name": "python",
   "nbconvert_exporter": "python",
   "pygments_lexer": "ipython3",
   "version": "3.10.4"
  }
 },
 "nbformat": 4,
 "nbformat_minor": 4
}
